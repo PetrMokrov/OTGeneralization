{
  "nbformat": 4,
  "nbformat_minor": 0,
  "metadata": {
    "language_info": {
      "codemirror_mode": {
        "name": "ipython",
        "version": 3
      },
      "file_extension": ".py",
      "mimetype": "text/x-python",
      "name": "python",
      "nbconvert_exporter": "python",
      "pygments_lexer": "ipython3",
      "version": "3.7.6-final"
    },
    "orig_nbformat": 2,
    "kernelspec": {
      "name": "Python 3.7.6 64-bit ('diplom_env': conda)",
      "display_name": "Python 3.7.6 64-bit ('diplom_env': conda)",
      "metadata": {
        "interpreter": {
          "hash": "f831e2a518782ee382630f56953ef610432ad93aca6bb0cf2d45697055550c70"
        }
      }
    },
    "colab": {
      "name": "GOT_toy_experiments.ipynb",
      "provenance": [],
      "collapsed_sections": []
    },
    "accelerator": "GPU"
  },
  "cells": [
    {
      "cell_type": "markdown",
      "metadata": {
        "id": "_YuogIgrmWS3"
      },
      "source": [
        "### Import of requred libraries"
      ]
    },
    {
      "cell_type": "code",
      "metadata": {
        "id": "4cVUC1Zdm0jx",
        "outputId": "63dccf42-58b5-497c-f9f7-f675ecf1d3e3",
        "colab": {
          "base_uri": "https://localhost:8080/",
          "height": 74
        }
      },
      "source": [
        "!pip install multipledispatch"
      ],
      "execution_count": 1,
      "outputs": [
        {
          "output_type": "stream",
          "text": [
            "Requirement already satisfied: multipledispatch in /usr/local/lib/python3.6/dist-packages (0.6.0)\n",
            "Requirement already satisfied: six in /usr/local/lib/python3.6/dist-packages (from multipledispatch) (1.15.0)\n"
          ],
          "name": "stdout"
        }
      ]
    },
    {
      "cell_type": "code",
      "metadata": {
        "id": "Fhh4LBH7mWS5"
      },
      "source": [
        "import matplotlib\n",
        "import numpy as np\n",
        "import matplotlib.pyplot as plt\n",
        "%matplotlib inline\n",
        "\n",
        "from tqdm import tqdm\n",
        "\n",
        "import warnings\n",
        "warnings.filterwarnings('ignore')\n",
        "from IPython.display import clear_output\n",
        "\n",
        "import os, sys\n",
        "sys.path.append(\"..\")\n",
        "\n",
        "import torch\n",
        "import torch.autograd as autograd\n",
        "\n",
        "from src.icnn import DenseICNN\n",
        "from src.tools import compute_l1_norm, energy_based_distance, ewma\n",
        "from src import distributions\n",
        "from src.distributions import DataLoaderWrapper\n",
        "\n",
        "from src.experiments.state import State\n",
        "from src.experiments.launcher import ExperimentLauncher\n",
        "from src.experiments.experiments import RunnableItem, check_presence"
      ],
      "execution_count": 41,
      "outputs": []
    },
    {
      "cell_type": "markdown",
      "metadata": {
        "id": "WgDtE5clmWTG"
      },
      "source": [
        "### Creating state"
      ]
    },
    {
      "cell_type": "code",
      "metadata": {
        "id": "Io2cWIvMmWTM"
      },
      "source": [
        "LCH = ExperimentLauncher(create_level=True)"
      ],
      "execution_count": 57,
      "outputs": []
    },
    {
      "cell_type": "markdown",
      "metadata": {
        "id": "QOdaCRIMmWTT"
      },
      "source": [
        "### Setting of configuration"
      ]
    },
    {
      "cell_type": "code",
      "metadata": {
        "tags": [],
        "id": "8Cu-p7KjmWTV"
      },
      "source": [
        "class ConstantsSetup(RunnableItem):\n",
        "\n",
        "    def internal_run(self, state):\n",
        "        state.output = '8g' # or 8g, 25g, 49g, 100g, swiss\n",
        "        state.gpu_device = 0\n",
        "        state.batch_size = 1024\n",
        "        state.device = 'cuda'\n",
        "\n",
        "        if state.device == 'cuda':\n",
        "            torch.cuda.empty_cache() \n",
        "\n",
        "LCH.launch(ConstantsSetup())"
      ],
      "execution_count": 58,
      "outputs": []
    },
    {
      "cell_type": "markdown",
      "metadata": {
        "id": "s7YWbPsbmWTd"
      },
      "source": [
        "### Models setup"
      ]
    },
    {
      "cell_type": "code",
      "metadata": {
        "tags": [],
        "id": "0IDA6dtymWTe",
        "outputId": "78ed168b-a97a-43d1-caa6-251a23acef50",
        "colab": {
          "base_uri": "https://localhost:8080/",
          "height": 36
        }
      },
      "source": [
        "class ModelsSetup(RunnableItem):\n",
        "\n",
        "    @check_presence('device')\n",
        "    def internal_run(self, state):\n",
        "        D = DenseICNN(\n",
        "            2, rank=3, hidden_layer_sizes=[128, 128, 64],\n",
        "            dropout=1e-5, strong_convexity=1e-6, device=state.device\n",
        "        ).to(device=state.device)\n",
        "\n",
        "        print(np.sum([np.prod(list(p.shape)) for p in D.parameters()]), 'parameters in Discriminative Network')\n",
        "\n",
        "        # Manual weights init\n",
        "        for p in D.parameters():\n",
        "            p.data = torch.randn(p.shape, device=state.device, dtype=torch.float32) / 2.\n",
        "            \n",
        "        D_conj = DenseICNN(\n",
        "            2, rank=3,\n",
        "            hidden_layer_sizes=[128, 128, 64],\n",
        "            dropout=1e-5, strong_convexity=1e-6, device = state.device\n",
        "        ).to(device=state.device)\n",
        "\n",
        "        for p in D_conj.parameters():\n",
        "            p.data = torch.randn(p.shape, device=state.device, dtype=torch.float32) / 2.\n",
        "        \n",
        "        state.func = D\n",
        "        state.gen = D_conj\n",
        "\n",
        "LCH.launch(ModelsSetup())"
      ],
      "execution_count": 59,
      "outputs": [
        {
          "output_type": "stream",
          "text": [
            "27520 parameters in Discriminative Network\n"
          ],
          "name": "stdout"
        }
      ]
    },
    {
      "cell_type": "markdown",
      "metadata": {
        "id": "_hQc6dphmWTm"
      },
      "source": [
        "### Initializing data"
      ]
    },
    {
      "cell_type": "code",
      "metadata": {
        "id": "WzN0n1hUmWTn"
      },
      "source": [
        "\n",
        "class DistributionsInitializer(RunnableItem):\n",
        "\n",
        "    @check_presence('output', 'device', 'batch_size')\n",
        "    def internal_run(self, state):\n",
        "        OUTPUT = state.output\n",
        "\n",
        "        X_sampler = distributions.StandartNormalSampler(\n",
        "            dim=2, requires_grad=True, device=state.device, random_seed=None, normalize=True)\n",
        "\n",
        "        arg_dict = {'device':state.device, 'requires_grad':True, 'random_seed':None, 'normalize':True}\n",
        "\n",
        "        if OUTPUT == '8g':\n",
        "            Y_sampler = distributions.Mix8GaussiansSampler(**arg_dict)\n",
        "        elif OUTPUT == '25g':\n",
        "            Y_sampler = distributions.MixN2GaussiansSampler(n=5, **arg_dict)\n",
        "        elif OUTPUT == '49g':\n",
        "            Y_sampler = distributions.MixN2GaussiansSampler(n=7, **arg_dict)\n",
        "        elif OUTPUT == '100g':\n",
        "            Y_sampler = distributions.MixN2GaussiansSampler(n=10, **arg_dict)\n",
        "        elif OUTPUT == 'swiss':\n",
        "            Y_sampler = distributions.SwissRollSampler(**arg_dict)\n",
        "        else:\n",
        "            raise Exception('Unknown output distribution')\n",
        "\n",
        "        state.source_dist = DataLoaderWrapper(X_sampler, state.batch_size)\n",
        "        state.target_dist = DataLoaderWrapper(Y_sampler, state.batch_size)\n",
        "\n",
        "LCH.launch(DistributionsInitializer())"
      ],
      "execution_count": 60,
      "outputs": []
    },
    {
      "cell_type": "markdown",
      "metadata": {
        "id": "X0mbCimGmWTw"
      },
      "source": [
        "### Helpful classes and functions"
      ]
    },
    {
      "cell_type": "code",
      "metadata": {
        "id": "TEQp8FPJmWTy"
      },
      "source": [
        "#TODO: locate these classes and functions in ../src\n",
        "\n",
        "def finalize_ax(ax):\n",
        "    ax.grid(b=True, which='both')\n",
        "    ax.minorticks_on()\n",
        "\n",
        "class LossCollector:\n",
        "\n",
        "    def __init__(self, n_averaging):\n",
        "        self.n_averaging = n_averaging\n",
        "        self.collected = 0\n",
        "        self.history = []\n",
        "        self.current = 0.\n",
        "\n",
        "    \n",
        "    def add(self, value):\n",
        "        if self.collected < self.n_averaging:\n",
        "            if isinstance(value, torch.Tensor):\n",
        "                value = value.item()\n",
        "            self.current += value\n",
        "            self.collected += 1\n",
        "\n",
        "        if self.collected == self.n_averaging:\n",
        "            self.history.append(self.current/self.n_averaging)\n",
        "            self.reset_current()\n",
        "    \n",
        "    def reset_current(self):\n",
        "        self.collected = 0\n",
        "        self.current = 0.\n",
        "    \n",
        "    def reset(self):\n",
        "        self.history = []\n",
        "        self.reset_current()\n",
        "    \n",
        "    def get_history(self, inscribe_incomplete=False, incomplete_limit=1):\n",
        "        history = self.history\n",
        "        if inscribe_incomplete:\n",
        "            assert(incomplete_limit >= 1)\n",
        "            if self.collected >= incomplete_limit:\n",
        "                history.append(self.current/self.collected)\n",
        "        return history"
      ],
      "execution_count": 61,
      "outputs": []
    },
    {
      "cell_type": "markdown",
      "metadata": {
        "id": "Pw3dxkTvmWT3"
      },
      "source": [
        "### Creation of train loop"
      ]
    },
    {
      "cell_type": "code",
      "metadata": {
        "id": "mkq3o-O9mWT4"
      },
      "source": [
        "class DataloaderContinuator:\n",
        "\n",
        "    def __init__(self, dataloader):\n",
        "        self.dataloader = dataloader\n",
        "        self.cur_dataloader_iter = iter(self.dataloader)\n",
        "    \n",
        "    def __next__(self):\n",
        "        try:\n",
        "            batch = next(self.cur_dataloader_iter)\n",
        "            return batch\n",
        "        except StopIteration:\n",
        "            self.cur_dataloader_iter = iter(self.dataloader)\n",
        "            batch = next(self.cur_dataloader_iter)\n",
        "            return batch\n",
        "\n",
        "\n",
        "def compute_grad(model, input, output=None):\n",
        "    if output is None:\n",
        "        output = model(input)\n",
        "    _grad = autograd.grad(\n",
        "        outputs=output, \n",
        "        inputs=input,\n",
        "        create_graph=True, \n",
        "        retain_graph=True,\n",
        "        only_inputs=True,\n",
        "        grad_outputs=torch.ones_like(output)\n",
        "        )[0]\n",
        "    return _grad\n",
        "\n",
        "def relaxed_positive_weight_regularizer(model):\n",
        "    regularizer = 0.\n",
        "    for param in model.parameters():\n",
        "        regularizer += param.data.clamp(max=0.).pow(2).sum()\n",
        "    return regularizer\n",
        "\n",
        "def forse_positive_weight(model):\n",
        "    for param in model.parameters():\n",
        "        param.data.clamp_(0.)\n",
        "\n",
        "class W2MinMaxSolver(RunnableItem):\n",
        "\n",
        "    def show_training(self, state, iteration):\n",
        "\n",
        "        clear_output(wait=True)\n",
        "        print(\"Iteration\", iteration)\n",
        "        \n",
        "        fig, axes = plt.subplots(1, 3, figsize=(12, 3))\n",
        "        axes[0].plot(\n",
        "            range(0, state.energy_averaging_factor * len(state.QP_energy), state.energy_averaging_factor),\n",
        "            np.log10(np.abs(ewma(state.QP_energy, span=1000)))\n",
        "        )\n",
        "        axes[0].set_title('Energy Q P')\n",
        "        axes[0].set_xlabel('Iteration')\n",
        "        axes[0].set_ylabel('log10(E)')\n",
        "\n",
        "        max_loss_history = state.max_loss.get_history()\n",
        "        min_loss_history = state.min_loss.get_history()\n",
        "        axes[1].plot(\n",
        "            range(0, state.max_loss.n_averaging * len(max_loss_history), state.max_loss.n_averaging),\n",
        "            max_loss_history\n",
        "        )\n",
        "        axes[1].set_title('Max loss history')\n",
        "        axes[1].set_xlabel('Iteration', fontsize=11)\n",
        "\n",
        "        axes[2].plot(\n",
        "            range(0, state.min_loss.n_averaging * len(min_loss_history), state.min_loss.n_averaging),\n",
        "            min_loss_history\n",
        "        )\n",
        "        axes[2].set_title('Min loss history')\n",
        "        axes[2].set_xlabel('Iterations')\n",
        "        \n",
        "        fig.tight_layout()\n",
        "        plt.show()\n",
        "\n",
        "        fig, axes = plt.subplots(1, 2, figsize=(8, 3))\n",
        "\n",
        "        Y = state.source_dist.sampler.sample(state.energy_batchsize)\n",
        "        X_from_Y = compute_grad(state.gen, Y).detach().cpu().numpy()\n",
        "        X = state.target_dist.sampler.sample(state.energy_batchsize).detach().cpu().numpy()\n",
        "\n",
        "        axes[0].scatter(X[:, 0], X[:, 1], edgecolors='black', s=4.)\n",
        "        axes[0].set_title('Desired distrib')\n",
        "        axes[1].scatter(X_from_Y[:, 0], X_from_Y[:, 1], edgecolors='black', s=4.)\n",
        "        axes[1].set_title('Constructed distrib')\n",
        "        plt.show()\n",
        "\n",
        "\n",
        "    def store_energy(self, state):\n",
        "        state.gen.eval(); state.func.eval()\n",
        "\n",
        "        Y = state.source_dist.sampler.sample(state.energy_batchsize)\n",
        "        X = state.target_dist.sampler.sample(state.energy_batchsize)\n",
        "        X_from_Y = compute_grad(state.gen, Y).detach()\n",
        "        with torch.no_grad():\n",
        "            state.QP_energy.append(\n",
        "                energy_based_distance(X, X_from_Y, device=state.device).item())\n",
        "        \n",
        "        state.gen.train(True); state.func.train(True)\n",
        "    \n",
        "    def preprocessing(self, state):\n",
        "\n",
        "        state.total_iterations = 3000\n",
        "        state.g_iterations = 20\n",
        "        state.f_iterations = 1\n",
        "        state.lr = 1e-4\n",
        "        state.energy_averaging_factor = 20\n",
        "        state.loss_averaging_factor = 20\n",
        "        state.energy_batchsize = 1024\n",
        "        state.show_factor = 40\n",
        "        state.upd_loss_stat_factor = 200\n",
        "\n",
        "        state.QP_energy = []\n",
        "        max_loss_n_av = (state.loss_averaging_factor // state.f_iterations) * state.f_iterations\n",
        "        state.max_loss = LossCollector(max_loss_n_av)\n",
        "        min_loss_n_av = (state.loss_averaging_factor // state.g_iterations) * state.g_iterations\n",
        "        state.min_loss = LossCollector(min_loss_n_av)\n",
        "\n",
        "        state.func_optim = torch.optim.Adam(state.func.parameters(), lr=state.lr, betas=(0.8, 0.99))\n",
        "        state.gen_optim = torch.optim.Adam(state.gen.parameters(), lr=state.lr, betas=(0.4, 0.4))\n",
        "        state.positive_w_reg_lambda = 1.0\n",
        "\n",
        "\n",
        "    def internal_run(self, state):\n",
        "\n",
        "        Ti = state.total_iterations\n",
        "        Gi = state.g_iterations\n",
        "        Fi = state.f_iterations\n",
        "        Sdist = DataloaderContinuator(state.source_dist)\n",
        "        Tdist = DataloaderContinuator(state.target_dist)\n",
        "        gen = state.gen\n",
        "        func = state.func\n",
        "        gen_optim = state.gen_optim\n",
        "        func_optim = state.func_optim\n",
        "        positive_w_reg_lambda = state.positive_w_reg_lambda\n",
        "        gen_optim.zero_grad(); func_optim.zero_grad()\n",
        "        gen.train(True); func.train(True)\n",
        "\n",
        "        for t in range(Ti):\n",
        "            if t % state.upd_loss_stat_factor == 0:\n",
        "                state.min_loss.reset()\n",
        "                state.max_loss.reset()\n",
        "\n",
        "            # inner cycle \n",
        "            for n_g_it in range(Gi):\n",
        "                func.eval()\n",
        "                s_batch = next(Sdist)\n",
        "                # print(s_batch.device)\n",
        "                b_size = s_batch.size(0)\n",
        "                g_grad = compute_grad(gen, s_batch)\n",
        "                #TODO: may be set parameters of f to have requires_grad = False\n",
        "                # adjusted J ( \\theta_f, \\theta_g) loss (without -f(t_batch) term)\n",
        "                loss = (func(g_grad).squeeze() - (s_batch * g_grad).sum(-1)).mean()\n",
        "                # R(\\theta_g) regularizer\n",
        "                loss += positive_w_reg_lambda * relaxed_positive_weight_regularizer(gen)\n",
        "                state.min_loss.add(loss.item())\n",
        "                loss.backward()\n",
        "                gen_optim.step()\n",
        "                gen_optim.zero_grad(); func_optim.zero_grad()\n",
        "                func.train(True)\n",
        "\n",
        "            # in the article Fi equals to 1\n",
        "            for n_f_it in range(Fi):\n",
        "                gen.eval()\n",
        "                s_batch = next(Sdist)\n",
        "                t_batch = next(Tdist)\n",
        "                b_size = s_batch.size(0)\n",
        "                g_grad = compute_grad(gen, s_batch).detach()\n",
        "                # J(\\theta_F, \\theta_g) loss\n",
        "                loss = - (func(g_grad).squeeze() - \\\n",
        "                        (s_batch * g_grad).view(b_size, -1).sum(-1) -\\\n",
        "                        func(t_batch).squeeze()).mean()\n",
        "                state.max_loss.add(loss.item())\n",
        "                loss.backward()\n",
        "                func_optim.step()\n",
        "                gen_optim.zero_grad(); func_optim.zero_grad()\n",
        "                gen.train(True)\n",
        "                forse_positive_weight(func)\n",
        "            \n",
        "            if t % state.energy_averaging_factor == 0:\n",
        "                self.store_energy(state)\n",
        "            \n",
        "            if t % state.show_factor == 0:\n",
        "                self.show_training(state, t)"
      ],
      "execution_count": 62,
      "outputs": []
    },
    {
      "cell_type": "markdown",
      "metadata": {
        "id": "h_20iNahmWT9"
      },
      "source": [
        "### Run train loop"
      ]
    },
    {
      "cell_type": "code",
      "metadata": {
        "tags": [],
        "id": "7vdWoUbtmWT_",
        "outputId": "1fad2038-b6b9-4e45-d2cb-d1410847b9fc",
        "colab": {
          "base_uri": "https://localhost:8080/",
          "height": 633
        }
      },
      "source": [
        "with LCH.localize():\n",
        "    LCH.launch(W2MinMaxSolver())"
      ],
      "execution_count": 63,
      "outputs": [
        {
          "output_type": "stream",
          "text": [
            "Iteration 2960\n"
          ],
          "name": "stdout"
        },
        {
          "output_type": "display_data",
          "data": {
            "image/png": "[encoded data removed]",
            "text/plain": [
              "<Figure size 576x216 with 2 Axes>"
            ]
          },
          "metadata": {
            "tags": [],
            "needs_background": "light"
          }
        },
        {
          "output_type": "display_data",
          "data": {
            "image/png": "[encoded data removed]",
            "text/plain": [
              "<Figure size 864x216 with 3 Axes>"
            ]
          },
          "metadata": {
            "tags": [],
            "needs_background": "light"
          }
        },
        {
          "output_type": "display_data",
          "data": {
            "image/png": "[encoded data removed]",
            "text/plain": [
              "<Figure size 576x216 with 2 Axes>"
            ]
          },
          "metadata": {
            "tags": [],
            "needs_background": "light"
          }
        }
      ]
    },
    {
      "cell_type": "code",
      "metadata": {
        "tags": [],
        "id": "LQRcHSSpmWUE"
      },
      "source": [
        "LCH.state.detach_level()"
      ],
      "execution_count": null,
      "outputs": []
    },
    {
      "cell_type": "code",
      "metadata": {
        "id": "9yd2rCJvmWUK",
        "outputId": "2473a17d-b021-4729-a80e-18dacc76e436"
      },
      "source": [
        "LCH.state.level_states"
      ],
      "execution_count": null,
      "outputs": [
        {
          "output_type": "execute_result",
          "data": {
            "text/plain": [
              "[&lt;src.experiments.state.LevelState at 0x947c83e188&gt;]"
            ]
          },
          "metadata": {
            "tags": []
          },
          "execution_count": 19
        }
      ]
    },
    {
      "cell_type": "markdown",
      "metadata": {
        "id": "_PnnQ1GYmWUQ"
      },
      "source": [
        ""
      ]
    }
  ]
}